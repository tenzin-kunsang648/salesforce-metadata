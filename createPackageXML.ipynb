{
 "metadata": {
  "language_info": {
   "codemirror_mode": {
    "name": "ipython",
    "version": 3
   },
   "file_extension": ".py",
   "mimetype": "text/x-python",
   "name": "python",
   "nbconvert_exporter": "python",
   "pygments_lexer": "ipython3",
   "version": "3.7.4-final"
  },
  "orig_nbformat": 2,
  "kernelspec": {
   "name": "python3",
   "display_name": "Python 3",
   "language": "python"
  }
 },
 "nbformat": 4,
 "nbformat_minor": 2,
 "cells": [
  {
   "cell_type": "code",
   "execution_count": null,
   "metadata": {},
   "outputs": [],
   "source": []
  },
  {
   "cell_type": "code",
   "execution_count": 200,
   "metadata": {},
   "outputs": [],
   "source": [
    "from xml.dom import minidom \n",
    "import os  \n",
    "import pandas as pd\n",
    "from bs4 import BeautifulSoup\n",
    "import csv, sys, os\n",
    "from lxml import etree\n",
    "import xml.etree.ElementTree as ET"
   ]
  },
  {
   "cell_type": "code",
   "execution_count": 201,
   "metadata": {},
   "outputs": [
    {
     "output_type": "execute_result",
     "data": {
      "text/plain": [
       "                  Metadata Type             Metadata API  \\\n",
       "0           AccessControlPolicy  Exposed in Metadata API   \n",
       "1       AccountForecastSettings  Exposed in Metadata API   \n",
       "2       AccountInsightsSettings  Exposed in Metadata API   \n",
       "3   AccountIntelligenceSettings  Exposed in Metadata API   \n",
       "4  AccountRelationshipShareRule  Exposed in Metadata API   \n",
       "\n",
       "              Source Tracking  \\\n",
       "0  Exposed in Source Tracking   \n",
       "1  Exposed in Source Tracking   \n",
       "2  Exposed in Source Tracking   \n",
       "3  Exposed in Source Tracking   \n",
       "4  Exposed in Source Tracking   \n",
       "\n",
       "  Unlocked Packaging Second generation Unlocked Packaging  \\\n",
       "0            Requires package without a namespace. 1        \n",
       "1                      Exposed in Unlocked Packaging        \n",
       "2                                                NaN        \n",
       "3                                                NaN        \n",
       "4                      Exposed in Unlocked Packaging        \n",
       "\n",
       "  Managed Packaging Second generation Managed Packaging  \\\n",
       "0                                                NaN      \n",
       "1                                                NaN      \n",
       "2                                                NaN      \n",
       "3                                                NaN      \n",
       "4                       Exposed in Managed Packaging      \n",
       "\n",
       "  Classic Packaging First generation Packaging, and covers both Managed and Unmanaged through footnotes in the cells  \\\n",
       "0                                                NaN                                                                   \n",
       "1                                                NaN                                                                   \n",
       "2                                                NaN                                                                   \n",
       "3                                                NaN                                                                   \n",
       "4                       Exposed in Classic Packaging                                                                   \n",
       "\n",
       "              Change Sets Apex Metadata API Known Issues  \n",
       "0                     NaN               NaN          NaN  \n",
       "1                     NaN               NaN          NaN  \n",
       "2                     NaN               NaN          NaN  \n",
       "3                     NaN               NaN          NaN  \n",
       "4  Exposed in Change Sets               NaN          NaN  "
      ],
      "text/html": "<div>\n<style scoped>\n    .dataframe tbody tr th:only-of-type {\n        vertical-align: middle;\n    }\n\n    .dataframe tbody tr th {\n        vertical-align: top;\n    }\n\n    .dataframe thead th {\n        text-align: right;\n    }\n</style>\n<table border=\"1\" class=\"dataframe\">\n  <thead>\n    <tr style=\"text-align: right;\">\n      <th></th>\n      <th>Metadata Type</th>\n      <th>Metadata API</th>\n      <th>Source Tracking</th>\n      <th>Unlocked Packaging Second generation Unlocked Packaging</th>\n      <th>Managed Packaging Second generation Managed Packaging</th>\n      <th>Classic Packaging First generation Packaging, and covers both Managed and Unmanaged through footnotes in the cells</th>\n      <th>Change Sets</th>\n      <th>Apex Metadata API</th>\n      <th>Known Issues</th>\n    </tr>\n  </thead>\n  <tbody>\n    <tr>\n      <td>0</td>\n      <td>AccessControlPolicy</td>\n      <td>Exposed in Metadata API</td>\n      <td>Exposed in Source Tracking</td>\n      <td>Requires package without a namespace. 1</td>\n      <td>NaN</td>\n      <td>NaN</td>\n      <td>NaN</td>\n      <td>NaN</td>\n      <td>NaN</td>\n    </tr>\n    <tr>\n      <td>1</td>\n      <td>AccountForecastSettings</td>\n      <td>Exposed in Metadata API</td>\n      <td>Exposed in Source Tracking</td>\n      <td>Exposed in Unlocked Packaging</td>\n      <td>NaN</td>\n      <td>NaN</td>\n      <td>NaN</td>\n      <td>NaN</td>\n      <td>NaN</td>\n    </tr>\n    <tr>\n      <td>2</td>\n      <td>AccountInsightsSettings</td>\n      <td>Exposed in Metadata API</td>\n      <td>Exposed in Source Tracking</td>\n      <td>NaN</td>\n      <td>NaN</td>\n      <td>NaN</td>\n      <td>NaN</td>\n      <td>NaN</td>\n      <td>NaN</td>\n    </tr>\n    <tr>\n      <td>3</td>\n      <td>AccountIntelligenceSettings</td>\n      <td>Exposed in Metadata API</td>\n      <td>Exposed in Source Tracking</td>\n      <td>NaN</td>\n      <td>NaN</td>\n      <td>NaN</td>\n      <td>NaN</td>\n      <td>NaN</td>\n      <td>NaN</td>\n    </tr>\n    <tr>\n      <td>4</td>\n      <td>AccountRelationshipShareRule</td>\n      <td>Exposed in Metadata API</td>\n      <td>Exposed in Source Tracking</td>\n      <td>Exposed in Unlocked Packaging</td>\n      <td>Exposed in Managed Packaging</td>\n      <td>Exposed in Classic Packaging</td>\n      <td>Exposed in Change Sets</td>\n      <td>NaN</td>\n      <td>NaN</td>\n    </tr>\n  </tbody>\n</table>\n</div>"
     },
     "metadata": {},
     "execution_count": 201
    }
   ],
   "source": [
    "#get the dataset https://developer.salesforce.com/docs/metadata-coverage/51\n",
    "df = pd.read_csv(\"metadataCoverage.csv\")\n",
    "df.head()"
   ]
  },
  {
   "cell_type": "code",
   "execution_count": 202,
   "metadata": {},
   "outputs": [
    {
     "output_type": "execute_result",
     "data": {
      "text/plain": [
       "                  Metadata Type             Metadata API  \\\n",
       "0           AccessControlPolicy  Exposed in Metadata API   \n",
       "1       AccountForecastSettings  Exposed in Metadata API   \n",
       "2       AccountInsightsSettings  Exposed in Metadata API   \n",
       "3   AccountIntelligenceSettings  Exposed in Metadata API   \n",
       "4  AccountRelationshipShareRule  Exposed in Metadata API   \n",
       "\n",
       "  Unlocked Packaging Second generation Unlocked Packaging  \n",
       "0            Requires package without a namespace. 1       \n",
       "1                      Exposed in Unlocked Packaging       \n",
       "2                                                NaN       \n",
       "3                                                NaN       \n",
       "4                      Exposed in Unlocked Packaging       "
      ],
      "text/html": "<div>\n<style scoped>\n    .dataframe tbody tr th:only-of-type {\n        vertical-align: middle;\n    }\n\n    .dataframe tbody tr th {\n        vertical-align: top;\n    }\n\n    .dataframe thead th {\n        text-align: right;\n    }\n</style>\n<table border=\"1\" class=\"dataframe\">\n  <thead>\n    <tr style=\"text-align: right;\">\n      <th></th>\n      <th>Metadata Type</th>\n      <th>Metadata API</th>\n      <th>Unlocked Packaging Second generation Unlocked Packaging</th>\n    </tr>\n  </thead>\n  <tbody>\n    <tr>\n      <td>0</td>\n      <td>AccessControlPolicy</td>\n      <td>Exposed in Metadata API</td>\n      <td>Requires package without a namespace. 1</td>\n    </tr>\n    <tr>\n      <td>1</td>\n      <td>AccountForecastSettings</td>\n      <td>Exposed in Metadata API</td>\n      <td>Exposed in Unlocked Packaging</td>\n    </tr>\n    <tr>\n      <td>2</td>\n      <td>AccountInsightsSettings</td>\n      <td>Exposed in Metadata API</td>\n      <td>NaN</td>\n    </tr>\n    <tr>\n      <td>3</td>\n      <td>AccountIntelligenceSettings</td>\n      <td>Exposed in Metadata API</td>\n      <td>NaN</td>\n    </tr>\n    <tr>\n      <td>4</td>\n      <td>AccountRelationshipShareRule</td>\n      <td>Exposed in Metadata API</td>\n      <td>Exposed in Unlocked Packaging</td>\n    </tr>\n  </tbody>\n</table>\n</div>"
     },
     "metadata": {},
     "execution_count": 202
    }
   ],
   "source": [
    "#drop the irrelevant columns - only need metadata type, metadata API, and unlocked packaging columns \n",
    "\n",
    "cols = [2, 4, 5, 6, 7, 8]\n",
    "df.drop(df.columns[cols], axis = 1, inplace= True)\n",
    "df.head()"
   ]
  },
  {
   "cell_type": "code",
   "execution_count": 203,
   "metadata": {},
   "outputs": [
    {
     "output_type": "execute_result",
     "data": {
      "text/plain": [
       "                   metadataType              metadataAPI  \\\n",
       "0           AccessControlPolicy  Exposed in Metadata API   \n",
       "1       AccountForecastSettings  Exposed in Metadata API   \n",
       "2       AccountInsightsSettings  Exposed in Metadata API   \n",
       "3   AccountIntelligenceSettings  Exposed in Metadata API   \n",
       "4  AccountRelationshipShareRule  Exposed in Metadata API   \n",
       "\n",
       "                         unlockedPackaging  \n",
       "0  Requires package without a namespace. 1  \n",
       "1            Exposed in Unlocked Packaging  \n",
       "2                                      NaN  \n",
       "3                                      NaN  \n",
       "4            Exposed in Unlocked Packaging  "
      ],
      "text/html": "<div>\n<style scoped>\n    .dataframe tbody tr th:only-of-type {\n        vertical-align: middle;\n    }\n\n    .dataframe tbody tr th {\n        vertical-align: top;\n    }\n\n    .dataframe thead th {\n        text-align: right;\n    }\n</style>\n<table border=\"1\" class=\"dataframe\">\n  <thead>\n    <tr style=\"text-align: right;\">\n      <th></th>\n      <th>metadataType</th>\n      <th>metadataAPI</th>\n      <th>unlockedPackaging</th>\n    </tr>\n  </thead>\n  <tbody>\n    <tr>\n      <td>0</td>\n      <td>AccessControlPolicy</td>\n      <td>Exposed in Metadata API</td>\n      <td>Requires package without a namespace. 1</td>\n    </tr>\n    <tr>\n      <td>1</td>\n      <td>AccountForecastSettings</td>\n      <td>Exposed in Metadata API</td>\n      <td>Exposed in Unlocked Packaging</td>\n    </tr>\n    <tr>\n      <td>2</td>\n      <td>AccountInsightsSettings</td>\n      <td>Exposed in Metadata API</td>\n      <td>NaN</td>\n    </tr>\n    <tr>\n      <td>3</td>\n      <td>AccountIntelligenceSettings</td>\n      <td>Exposed in Metadata API</td>\n      <td>NaN</td>\n    </tr>\n    <tr>\n      <td>4</td>\n      <td>AccountRelationshipShareRule</td>\n      <td>Exposed in Metadata API</td>\n      <td>Exposed in Unlocked Packaging</td>\n    </tr>\n  </tbody>\n</table>\n</div>"
     },
     "metadata": {},
     "execution_count": 203
    }
   ],
   "source": [
    "#rename column names\n",
    "df.columns = ['metadataType', 'metadataAPI', 'unlockedPackaging']\n",
    "df.head()"
   ]
  },
  {
   "cell_type": "code",
   "execution_count": 204,
   "metadata": {},
   "outputs": [],
   "source": [
    "#save the csv file\n",
    "df.to_csv('metadataCoverage_clean.csv')"
   ]
  },
  {
   "cell_type": "code",
   "execution_count": 205,
   "metadata": {},
   "outputs": [],
   "source": [
    "#create three different datasets - \n",
    "# 1. where metadata type is available in metadata API\n",
    "# 2. where metadata type is available in unlocked packaging\n",
    "# 3. where metadata type is not available in unlocked packaging\n",
    "\n",
    "# 1. where metadata type is available in metadata API\n",
    "\n",
    "metadataAPI_available_data = df.drop(df.columns[2], axis = 1) #drop unlocked packaging\n",
    "metadataAPI_available_data = metadataAPI_available_data.dropna()\n",
    "\n",
    "# 2. where metadata type is available in unlocked packaging\n",
    "\n",
    "unlockedPackaging_data = df.drop(df.columns[1], axis = 1) #drop metadataAPI\n",
    "unlockedPackaging_data_available = unlockedPackaging_data.dropna()\n",
    "\n",
    "# 3. where metadata type is not available in unlocked packaging\n",
    "\n",
    "unlockedPackaging_data_notAvailable = unlockedPackaging_data[unlockedPackaging_data['unlockedPackaging'].isnull()]\n",
    "unlockedPackaging_data_notAvailable.columns = ['metadataType', 'unlockedPackaging_nan']\n"
   ]
  },
  {
   "cell_type": "code",
   "execution_count": 206,
   "metadata": {},
   "outputs": [],
   "source": [
    "def createXML(data):\n",
    "    package = ET.Element('Package')\n",
    "    package.set('xmlns', 'http://soap.sforce.com/2006/04/metadata')\n",
    "    for index, row in data.iterrows():\n",
    "        types = ET.SubElement(package, 'types')\n",
    "        members = ET.SubElement(types, 'members')\n",
    "        members.text = '*'\n",
    "        name = ET.SubElement(types, 'name')\n",
    "        name.text = row['metadataType'] \n",
    "\n",
    "    mydata = '<?xml version=\"1.0\" encoding=\"UTF-8\"?>\\n' + ET.tostring(package, encoding=\"unicode\")\n",
    "    \n",
    "    xmlfilename = data.columns[1] + \".xml\"\n",
    "\n",
    "    with open(xmlfilename, \"w\") as f: \n",
    "        f.write(BeautifulSoup(mydata, \"xml\").prettify())\n",
    "    \n"
   ]
  },
  {
   "cell_type": "code",
   "execution_count": 207,
   "metadata": {},
   "outputs": [],
   "source": [
    "createXML(metadataAPI_available_data)\n",
    "createXML(unlockedPackaging_data_available)\n",
    "createXML(unlockedPackaging_data_notAvailable)\n"
   ]
  }
 ]
}